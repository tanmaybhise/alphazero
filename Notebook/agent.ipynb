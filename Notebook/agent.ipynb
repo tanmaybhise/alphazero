{
 "cells": [
  {
   "cell_type": "code",
   "execution_count": 1,
   "metadata": {},
   "outputs": [],
   "source": [
    "import os\n",
    "import sys\n",
    "sys.path.append(\"..\")\n",
    "\n",
    "import random\n",
    "import pandas as pd\n",
    "\n",
    "from src.Environment.tic_tac_toe import TicTacToe\n",
    "from src.Agent.memory import Memory"
   ]
  },
  {
   "cell_type": "code",
   "execution_count": 2,
   "metadata": {},
   "outputs": [],
   "source": [
    "class Agent():\n",
    "    def __init__(self, game, whoami, memory) -> None:\n",
    "        self.game = game\n",
    "        self.whoami = whoami\n",
    "        self.memory = memory\n",
    "\n",
    "    def naive_step(self):\n",
    "        possible_moves = self.game.get_legal_moves()\n",
    "        if possible_moves==[]:\n",
    "            return None\n",
    "        move = random.choice(possible_moves)\n",
    "        while ((self.game.player == self.whoami) and\\\n",
    "               (self.game.metadata[\"terminated\"]==False)):\n",
    "            self.game.make_move(move[0], move[1])\n",
    "            self.memory.update_agenty_memory(game_state=self.game, agent=self.whoami, move=[move[0], move[1]])"
   ]
  },
  {
   "cell_type": "code",
   "execution_count": null,
   "metadata": {},
   "outputs": [],
   "source": []
  },
  {
   "cell_type": "code",
   "execution_count": 46,
   "metadata": {},
   "outputs": [],
   "source": []
  },
  {
   "cell_type": "code",
   "execution_count": 40,
   "metadata": {},
   "outputs": [],
   "source": []
  },
  {
   "cell_type": "code",
   "execution_count": null,
   "metadata": {},
   "outputs": [],
   "source": []
  }
 ],
 "metadata": {
  "kernelspec": {
   "display_name": "alphazero_venv",
   "language": "python",
   "name": "python3"
  },
  "language_info": {
   "codemirror_mode": {
    "name": "ipython",
    "version": 3
   },
   "file_extension": ".py",
   "mimetype": "text/x-python",
   "name": "python",
   "nbconvert_exporter": "python",
   "pygments_lexer": "ipython3",
   "version": "3.9.13"
  }
 },
 "nbformat": 4,
 "nbformat_minor": 2
}
