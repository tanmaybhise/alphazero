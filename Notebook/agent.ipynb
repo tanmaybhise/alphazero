{
 "cells": [
  {
   "cell_type": "code",
   "execution_count": 44,
   "metadata": {},
   "outputs": [],
   "source": [
    "import os\n",
    "import sys\n",
    "sys.path.append(\"..\")\n",
    "\n",
    "import random\n",
    "import pandas as pd\n",
    "\n",
    "from src.Environment.tic_tac_toe import TicTacToe\n",
    "from src.Agent.memory import Memory\n",
    "from src.Agent.mcts_agent import MCTSAgent\n",
    "from src.Agent.naive_agent import NaiveAgent\n",
    "from src.Agent.mcts import MCTS"
   ]
  },
  {
   "cell_type": "code",
   "execution_count": 55,
   "metadata": {},
   "outputs": [
    {
     "data": {
      "text/plain": [
       "[0. 0. 0.]\n",
       "[0. 0. 0.]\n",
       "[0. 0. 0.]"
      ]
     },
     "execution_count": 55,
     "metadata": {},
     "output_type": "execute_result"
    }
   ],
   "source": [
    "game = TicTacToe(player=1)\n",
    "memory = Memory(\"../src/data\")\n",
    "agent1 = MCTSAgent(game, whoami=1, memory=memory)\n",
    "agent2 = NaiveAgent(game, whoami=2, memory=memory)\n",
    "game"
   ]
  },
  {
   "cell_type": "code",
   "execution_count": 56,
   "metadata": {},
   "outputs": [
    {
     "name": "stdout",
     "output_type": "stream",
     "text": [
      "[0. 0. 1.]\n",
      "[0. 0. 0.]\n",
      "[0. 0. 0.]\n",
      "\n",
      "[0. 0. 1.]\n",
      "[2. 0. 0.]\n",
      "[0. 0. 0.]\n",
      "\n",
      "[0. 0. 1.]\n",
      "[2. 0. 0.]\n",
      "[1. 0. 0.]\n",
      "\n",
      "[0. 0. 1.]\n",
      "[2. 2. 0.]\n",
      "[1. 0. 0.]\n",
      "\n",
      "[0. 0. 1.]\n",
      "[2. 2. 1.]\n",
      "[1. 0. 0.]\n",
      "\n",
      "[2. 0. 1.]\n",
      "[2. 2. 1.]\n",
      "[1. 0. 0.]\n",
      "\n",
      "Player 1 won!!!\n",
      "[2. 0. 1.]\n",
      "[2. 2. 1.]\n",
      "[1. 0. 1.]\n",
      "\n",
      "Player 1 won!!!\n",
      "[2. 0. 1.]\n",
      "[2. 2. 1.]\n",
      "[1. 0. 1.]\n",
      "\n"
     ]
    }
   ],
   "source": [
    "while game.metadata[\"terminated\"] == False:\n",
    "    agent1.step()\n",
    "    if game.winner:\n",
    "        print(f\"Player {game.winner} won!!!\")\n",
    "    print(game)\n",
    "    agent2.step()\n",
    "    if game.winner:\n",
    "        print(f\"Player {game.winner} won!!!\")\n",
    "    print(game)"
   ]
  },
  {
   "cell_type": "code",
   "execution_count": null,
   "metadata": {},
   "outputs": [],
   "source": []
  },
  {
   "cell_type": "code",
   "execution_count": null,
   "metadata": {},
   "outputs": [],
   "source": []
  },
  {
   "cell_type": "code",
   "execution_count": null,
   "metadata": {},
   "outputs": [],
   "source": []
  }
 ],
 "metadata": {
  "kernelspec": {
   "display_name": "alphazero_venv",
   "language": "python",
   "name": "python3"
  },
  "language_info": {
   "codemirror_mode": {
    "name": "ipython",
    "version": 3
   },
   "file_extension": ".py",
   "mimetype": "text/x-python",
   "name": "python",
   "nbconvert_exporter": "python",
   "pygments_lexer": "ipython3",
   "version": "3.9.13"
  }
 },
 "nbformat": 4,
 "nbformat_minor": 2
}
