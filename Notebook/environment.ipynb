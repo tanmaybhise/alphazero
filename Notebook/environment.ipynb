{
 "cells": [
  {
   "cell_type": "code",
   "execution_count": 2,
   "metadata": {},
   "outputs": [],
   "source": [
    "import numpy as np\n",
    "import pandas as pd\n",
    "\n",
    "import warnings\n",
    "warnings.filterwarnings(\"ignore\")"
   ]
  },
  {
   "cell_type": "code",
   "execution_count": 3,
   "metadata": {},
   "outputs": [],
   "source": [
    "class TicTacToe():\n",
    "    def __init__(self, player=None) -> None:\n",
    "        self.state = np.zeros(9).reshape(3,3)\n",
    "        self.winner = None\n",
    "        if player:\n",
    "            self.player = player\n",
    "        else:\n",
    "            self.player = np.random.choice([1,2])\n",
    "\n",
    "        self.metadata = {\"terminated\": False}\n",
    "\n",
    "    def get_legal_moves(self):\n",
    "        return np.argwhere(self.state==0).tolist()\n",
    "    \n",
    "    def make_move(self, row, column):\n",
    "        if [row, column] in self.get_legal_moves():\n",
    "            self.state[row, column] = self.player\n",
    "            self.winner = self.check_winner()\n",
    "            self.player = [1 if self.player==2 else 2][0]\n",
    "\n",
    "    def check_winner(self):\n",
    "        if (\n",
    "            ((np.sum(self.state == 1, axis=0) == 3).any()) \\\n",
    "            or ((np.sum(self.state == 1, axis=1) == 3).any()) \\\n",
    "            or ((self.state.diagonal() == 1).all()) \\\n",
    "            or ((np.fliplr(self.state).diagonal() == 1).all())\n",
    "            ):\n",
    "            self.metadata[\"terminated\"] = True\n",
    "            return 1\n",
    "\n",
    "        elif (\n",
    "            ((np.sum(self.state == 2, axis=0) == 3).any()) \\\n",
    "            or ((np.sum(self.state == 2, axis=1) == 3).any()) \\\n",
    "            or ((self.state.diagonal() == 2).all()) \\\n",
    "            or ((np.fliplr(self.state).diagonal() == 2).all())\n",
    "            ):\n",
    "            self.metadata[\"terminated\"] = True\n",
    "            return 2\n",
    "\n",
    "        elif np.where(self.state==0, 1, 0).sum() == 0:\n",
    "            self.metadata[\"terminated\"] = True\n",
    "            return 0\n",
    "\n",
    "        else:\n",
    "            return None\n",
    "    \n",
    "    def __repr__(self) -> str:\n",
    "        repr = \"\"\n",
    "        for i in np.flipud(self.state):\n",
    "            repr+=str(i)+\"\\n\"\n",
    "        return repr\n",
    "    "
   ]
  },
  {
   "cell_type": "code",
   "execution_count": null,
   "metadata": {},
   "outputs": [],
   "source": []
  }
 ],
 "metadata": {
  "kernelspec": {
   "display_name": "alphazero_venv",
   "language": "python",
   "name": "python3"
  },
  "language_info": {
   "codemirror_mode": {
    "name": "ipython",
    "version": 3
   },
   "file_extension": ".py",
   "mimetype": "text/x-python",
   "name": "python",
   "nbconvert_exporter": "python",
   "pygments_lexer": "ipython3",
   "version": "3.9.13"
  }
 },
 "nbformat": 4,
 "nbformat_minor": 2
}
