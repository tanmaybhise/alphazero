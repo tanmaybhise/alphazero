{
 "cells": [
  {
   "cell_type": "code",
   "execution_count": 1,
   "metadata": {},
   "outputs": [],
   "source": [
    "import os\n",
    "import sys\n",
    "sys.path.append(\"..\")\n",
    "\n",
    "from copy import deepcopy\n",
    "import random\n",
    "import pandas as pd\n",
    "import numpy as np\n",
    "\n",
    "from src.Environment.tic_tac_toe import TicTacToe\n",
    "from src.Agent.mcts import Node\n",
    "from src.Agent.mcts import MCTS"
   ]
  },
  {
   "cell_type": "code",
   "execution_count": 2,
   "metadata": {},
   "outputs": [
    {
     "name": "stdout",
     "output_type": "stream",
     "text": [
      "[0. 0. 0.]\n",
      "[0. 0. 0.]\n",
      "[0. 0. 0.]\n",
      "\n",
      "[0. 0. 0.]\n",
      "[0. 1. 0.]\n",
      "[0. 0. 0.]\n",
      "\n",
      "[0. 0. 0.]\n",
      "[0. 1. 0.]\n",
      "[0. 2. 0.]\n",
      "\n",
      "[0. 0. 0.]\n",
      "[0. 1. 0.]\n",
      "[1. 2. 0.]\n",
      "\n",
      "[0. 2. 0.]\n",
      "[0. 1. 0.]\n",
      "[1. 2. 0.]\n",
      "\n",
      "[1. 2. 0.]\n",
      "[0. 1. 0.]\n",
      "[1. 2. 0.]\n",
      "\n",
      "[1. 2. 0.]\n",
      "[2. 1. 0.]\n",
      "[1. 2. 0.]\n",
      "\n",
      "[1. 2. 1.]\n",
      "[2. 1. 0.]\n",
      "[1. 2. 0.]\n",
      "\n"
     ]
    }
   ],
   "source": [
    "game = TicTacToe(player=1)\n",
    "best_child = Node(TicTacToe(player=1))\n",
    "while game.metadata['terminated']==False:\n",
    "    print(game)\n",
    "    mcts = MCTS(best_child)\n",
    "    mcts.main()\n",
    "    best_move, best_child = best_child.get_best_child()\n",
    "    game.make_move(best_move[0], best_move[1])\n",
    "\n",
    "print(game)"
   ]
  },
  {
   "cell_type": "code",
   "execution_count": null,
   "metadata": {},
   "outputs": [],
   "source": []
  }
 ],
 "metadata": {
  "kernelspec": {
   "display_name": "alphazero_venv",
   "language": "python",
   "name": "python3"
  },
  "language_info": {
   "codemirror_mode": {
    "name": "ipython",
    "version": 3
   },
   "file_extension": ".py",
   "mimetype": "text/x-python",
   "name": "python",
   "nbconvert_exporter": "python",
   "pygments_lexer": "ipython3",
   "version": "3.9.13"
  }
 },
 "nbformat": 4,
 "nbformat_minor": 2
}
